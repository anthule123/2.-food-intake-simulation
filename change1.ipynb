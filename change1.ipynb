<<<<<<< HEAD
{
 "cells": [
  {
   "cell_type": "code",
   "execution_count": 6,
   "metadata": {},
   "outputs": [],
   "source": [
    "import numpy as np\n",
    "N = 720\n",
    "habit = np.zeros(N)\n",
    "energy= np.zeros(N)\n",
    "\n",
    "#1. Tham so cho E\n",
    "E_timeLowerBound = 300\n",
    "E_timeUpperBound = 1260\n",
    "#1. Tinh E\n",
    "for i in range(0,N):\n",
    "    t = 2* i\n",
    "    if E_timeLowerBound< t and t < E_timeUpperBound:\n",
    "        energy[i] = 1\n",
    "        #2. Tham so cho thoi quen an H\n",
    "t_lowerMeal = ['0', 260,580,600,600]\n",
    "t_upperMeal = ['0',1000,1400,1400,1440]\n",
    "t_meanMeal = ['0',500,750,610,1140]\n",
    "t_sigmaMeal = ['0',85,20,240,87]\n",
    "w_peak =['0',0.92,0.45,0.65,0.65]\n",
    "w_snack= 0.047\n",
    "import matplotlib.pyplot as plt\n",
    "import math\n",
    "def indicate_function(val,dau, cuoi):\n",
    "    if(dau <=val and val <=cuoi):\n",
    "        return 1\n",
    "    else:\n",
    "        return 0\n",
    "\n",
    "thoi_gian = np.linspace(0,24, 1000)\n",
    "def Habit(tgian):\n",
    "    res = w_snack\n",
    "    for i in range(1,5):\n",
    "        res +=indicate_function(tgian,t_lowerMeal[i],t_upperMeal[i])*w_peak[i] *math.exp(-1/2*((tgian-t_meanMeal[i])/t_sigmaMeal[i])**2)\n",
    "    return res\n",
    "#2. Tinh ham habit\n",
    "for i in range(0, N):\n",
    "    habit[i] = Habit(2*i)"
   ]
  },
  {
   "cell_type": "code",
   "execution_count": 7,
   "metadata": {},
   "outputs": [],
   "source": [
    "#3,4,5,6,7,8,9: Cac tham so con lai can init va vong lap\n",
    "#Init\n",
    "eta_G = 0.4\n",
    "\n",
    "def food_calculation():\n",
    "    ghrelin = np.zeros(N)\n",
    "    glucose = np.zeros(N)\n",
    "    appetite = np.zeros(N)\n",
    "    k_an_nhin = np.zeros(N)\n",
    "    k_nhin_an = np.zeros(N) \n",
    "    indicator_intake = np.zeros(N) \n",
    "    stomach = np.zeros(N)\n",
    "    quality_food = np.zeros(N)\n",
    "    ghrelin[0] = 178\n",
    "    glucose[0] = 5\n",
    "    stomach[0] = 0\n",
    "\n",
    "    p_ij_HA = 0.01\n",
    "    w_A = 0.1\n",
    "    A_max =300\n",
    "    k_nhin_an[0] = p_ij_HA * ghrelin[0] * (1 + w_A*appetite[0]/A_max)\n",
    "    k_an_nhin[0] = 0.001\n",
    "    indicator_intake[0] = 0\n",
    "\n",
    "    for i in range(1,N):\n",
    "        #3. Ghrelin\n",
    "        lambda_LS = 0.00462098\n",
    "        k_XL = 0.02\n",
    "        L_max = 208\n",
    "        k_LS_max  = k_XL *L_max\n",
    "        bthuc = k_LS_max * np.exp(-lambda_LS*stomach[i-1]) - k_XL*ghrelin[i-1]\n",
    "        ghrelin[i] = ghrelin[i-1] + 2* bthuc\n",
    "\n",
    "\n",
    "        #4. Glucose\n",
    "        k_XG = 0.0072\n",
    "        k_XGE = 0.0036\n",
    "        k_G = 0.4464\n",
    "        t_12 = 45\n",
    "        k_XS = np.log(2)/t_12\n",
    "        ro_GS = 0.9\n",
    "        vG = 12.4\n",
    "        bthuc = -(k_XG + k_XGE*energy[i-1])*glucose[i-1] + (k_G+k_XS*eta_G*ro_GS*stomach[i-1])/vG \n",
    "        glucose[i] = glucose[i-1] + 2* bthuc\n",
    "\n",
    "\n",
    "        #5. Appetite\n",
    "        l_A50 = 120\n",
    "        lambda_AG = 0.3\n",
    "        bthuc = A_max * ghrelin[i]/(ghrelin[i] + l_A50) * np.exp(-lambda_AG*glucose[i])\n",
    "        appetite[i] = bthuc\n",
    "\n",
    "        #6.k_ji\n",
    "        k_nhin_an[i] = p_ij_HA * habit[i] * (1 + w_A*appetite[i]/A_max)\n",
    "\n",
    "        #9. stomach\n",
    "        k_XS =0.0154033\n",
    "        k_S =16.5\n",
    "        bthuc = -k_XS*stomach[i-1] + k_S* indicator_intake[i-1]\n",
    "        stomach[i] = stomach[i-1] + 2*bthuc\n",
    "        #7.k_ij\n",
    "        k_ij0 = 0.001\n",
    "        ps_ij = 0.0001\n",
    "        pG_ij = 0.0001\n",
    "        k_an_nhin[i] = k_ij0 + ps_ij*stomach[i] + pG_ij*glucose[i]\n",
    "        #8 indicator intake\n",
    "        import random\n",
    "        u = random.uniform(0,1)\n",
    "        if(indicator_intake[i-1]==0):\n",
    "            if(u<=1-np.exp(-k_nhin_an[i-1] * 2)):\n",
    "                indicator_intake[i] = 1\n",
    "        else:\n",
    "            if(u > 1-np.exp(-k_an_nhin[i-1] * 2)):\n",
    "                indicator_intake[i] = 1\n",
    "        if(i == 1):\n",
    "            indicator_intake[i] = 0\n",
    "        #9. Quality of food\n",
    "        quality_food[i] = indicator_intake[i] * k_S * 2\n",
    "    return quality_food\n"
   ]
  },
  {
   "cell_type": "code",
   "execution_count": 8,
   "metadata": {},
   "outputs": [
    {
     "data": {
      "text/plain": [
       "<BarContainer object of 24 artists>"
      ]
     },
     "execution_count": 8,
     "metadata": {},
     "output_type": "execute_result"
    },
    {
     "data": {
      "image/png": "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",
      "text/plain": [
       "<Figure size 432x288 with 1 Axes>"
      ]
     },
     "metadata": {},
     "output_type": "display_data"
    }
   ],
   "source": [
    "trials = 100\n",
    "sum = np.zeros(N)\n",
    "for i in range(0,trials):\n",
    "    sum += food_calculation()\n",
    "sum/=trials\n",
    "box = np.zeros(24)\n",
    "for i in range(N):\n",
    "    j = i/30\n",
    "    box[int(j)] += sum[i]\n",
    "plt.title('simulation')\n",
    "plt.bar(np.linspace(0,24,24),box)"
   ]
  },
  {
   "cell_type": "code",
   "execution_count": 9,
   "metadata": {},
   "outputs": [
    {
     "data": {
      "text/plain": [
       "2490.1799999999994"
      ]
     },
     "execution_count": 9,
     "metadata": {},
     "output_type": "execute_result"
    }
   ],
   "source": [
    "total = 0\n",
    "for i in range(0,N):\n",
    "    total +=sum[i]\n",
    "total"
   ]
  },
  {
   "cell_type": "code",
   "execution_count": 10,
   "metadata": {},
   "outputs": [
    {
     "data": {
      "text/plain": [
       "996.0719999999998"
      ]
     },
     "execution_count": 10,
     "metadata": {},
     "output_type": "execute_result"
    }
   ],
   "source": [
    "cabon = total *eta_G\n",
    "cabon"
   ]
  }
 ],
 "metadata": {
  "interpreter": {
   "hash": "ba248839fc308c5ec13dd0046a33f2b311c21367d6f0f2fe586fee2c97db693a"
  },
  "kernelspec": {
   "display_name": "Python 3.10.4 64-bit",
   "language": "python",
   "name": "python3"
  },
  "language_info": {
   "codemirror_mode": {
    "name": "ipython",
    "version": 3
   },
   "file_extension": ".py",
   "mimetype": "text/x-python",
   "name": "python",
   "nbconvert_exporter": "python",
   "pygments_lexer": "ipython3",
   "version": "3.10.4"
  },
  "orig_nbformat": 4
 },
 "nbformat": 4,
 "nbformat_minor": 2
}
=======
{
 "cells": [
  {
   "cell_type": "code",
   "execution_count": 6,
   "metadata": {},
   "outputs": [],
   "source": [
    "import numpy as np\n",
    "N = 720\n",
    "habit = np.zeros(N)\n",
    "energy= np.zeros(N)\n",
    "\n",
    "#1. Tham so cho E\n",
    "E_timeLowerBound = 300\n",
    "E_timeUpperBound = 1260\n",
    "#1. Tinh E\n",
    "for i in range(0,N):\n",
    "    t = 2* i\n",
    "    if E_timeLowerBound< t and t < E_timeUpperBound:\n",
    "        energy[i] = 1\n",
    "        #2. Tham so cho thoi quen an H\n",
    "t_lowerMeal = ['0', 260,580,600,600]\n",
    "t_upperMeal = ['0',1000,1400,1400,1440]\n",
    "t_meanMeal = ['0',500,750,610,1140]\n",
    "t_sigmaMeal = ['0',85,20,240,87]\n",
    "w_peak =['0',0.92,0.45,0.65,0.65]\n",
    "w_snack= 0.047\n",
    "import matplotlib.pyplot as plt\n",
    "import math\n",
    "def indicate_function(val,dau, cuoi):\n",
    "    if(dau <=val and val <=cuoi):\n",
    "        return 1\n",
    "    else:\n",
    "        return 0\n",
    "\n",
    "thoi_gian = np.linspace(0,24, 1000)\n",
    "def Habit(tgian):\n",
    "    res = w_snack\n",
    "    for i in range(1,5):\n",
    "        res +=indicate_function(tgian,t_lowerMeal[i],t_upperMeal[i])*w_peak[i] *math.exp(-1/2*((tgian-t_meanMeal[i])/t_sigmaMeal[i])**2)\n",
    "    return res\n",
    "#2. Tinh ham habit\n",
    "for i in range(0, N):\n",
    "    habit[i] = Habit(2*i)"
   ]
  },
  {
   "cell_type": "code",
   "execution_count": 7,
   "metadata": {},
   "outputs": [],
   "source": [
    "#3,4,5,6,7,8,9: Cac tham so con lai can init va vong lap\n",
    "#Init\n",
    "eta_G = 0.4\n",
    "\n",
    "def food_calculation():\n",
    "    ghrelin = np.zeros(N)\n",
    "    glucose = np.zeros(N)\n",
    "    appetite = np.zeros(N)\n",
    "    k_an_nhin = np.zeros(N)\n",
    "    k_nhin_an = np.zeros(N) \n",
    "    indicator_intake = np.zeros(N) \n",
    "    stomach = np.zeros(N)\n",
    "    quality_food = np.zeros(N)\n",
    "    ghrelin[0] = 178\n",
    "    glucose[0] = 5\n",
    "    stomach[0] = 0\n",
    "\n",
    "    p_ij_HA = 0.01\n",
    "    w_A = 0.1\n",
    "    A_max =300\n",
    "    k_nhin_an[0] = p_ij_HA * ghrelin[0] * (1 + w_A*appetite[0]/A_max)\n",
    "    k_an_nhin[0] = 0.001\n",
    "    indicator_intake[0] = 0\n",
    "\n",
    "    for i in range(1,N):\n",
    "        #3. Ghrelin\n",
    "        lambda_LS = 0.00462098\n",
    "        k_XL = 0.02\n",
    "        L_max = 208\n",
    "        k_LS_max  = k_XL *L_max\n",
    "        bthuc = k_LS_max * np.exp(-lambda_LS*stomach[i-1]) - k_XL*ghrelin[i-1]\n",
    "        ghrelin[i] = ghrelin[i-1] + 2* bthuc\n",
    "\n",
    "\n",
    "        #4. Glucose\n",
    "        k_XG = 0.0072\n",
    "        k_XGE = 0.0036\n",
    "        k_G = 0.4464\n",
    "        t_12 = 45\n",
    "        k_XS = np.log(2)/t_12\n",
    "        ro_GS = 0.9\n",
    "        vG = 12.4\n",
    "        bthuc = -(k_XG + k_XGE*energy[i-1])*glucose[i-1] + (k_G+k_XS*eta_G*ro_GS*stomach[i-1])/vG \n",
    "        glucose[i] = glucose[i-1] + 2* bthuc\n",
    "\n",
    "\n",
    "        #5. Appetite\n",
    "        l_A50 = 120\n",
    "        lambda_AG = 0.3\n",
    "        bthuc = A_max * ghrelin[i]/(ghrelin[i] + l_A50) * np.exp(-lambda_AG*glucose[i])\n",
    "        appetite[i] = bthuc\n",
    "\n",
    "        #6.k_ji\n",
    "        k_nhin_an[i] = p_ij_HA * habit[i] * (1 + w_A*appetite[i]/A_max)\n",
    "\n",
    "        #9. stomach\n",
    "        k_XS =0.0154033\n",
    "        k_S =16.5\n",
    "        bthuc = -k_XS*stomach[i-1] + k_S* indicator_intake[i-1]\n",
    "        stomach[i] = stomach[i-1] + 2*bthuc\n",
    "        #7.k_ij\n",
    "        k_ij0 = 0.001\n",
    "        ps_ij = 0.0001\n",
    "        pG_ij = 0.0001\n",
    "        k_an_nhin[i] = k_ij0 + ps_ij*stomach[i] + pG_ij*glucose[i]\n",
    "        #8 indicator intake\n",
    "        import random\n",
    "        u = random.uniform(0,1)\n",
    "        if(indicator_intake[i-1]==0):\n",
    "            if(u<=1-np.exp(-k_nhin_an[i-1] * 2)):\n",
    "                indicator_intake[i] = 1\n",
    "        else:\n",
    "            if(u > 1-np.exp(-k_an_nhin[i-1] * 2)):\n",
    "                indicator_intake[i] = 1\n",
    "        if(i == 1):\n",
    "            indicator_intake[i] = 0\n",
    "        #9. Quality of food\n",
    "        quality_food[i] = indicator_intake[i] * k_S * 2\n",
    "    return quality_food\n"
   ]
  },
  {
   "cell_type": "code",
   "execution_count": 8,
   "metadata": {},
   "outputs": [
    {
     "data": {
      "text/plain": [
       "<BarContainer object of 24 artists>"
      ]
     },
     "execution_count": 8,
     "metadata": {},
     "output_type": "execute_result"
    },
    {
     "data": {
      "image/png": "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",
      "text/plain": [
       "<Figure size 432x288 with 1 Axes>"
      ]
     },
     "metadata": {},
     "output_type": "display_data"
    }
   ],
   "source": [
    "trials = 100\n",
    "sum = np.zeros(N)\n",
    "for i in range(0,trials):\n",
    "    sum += food_calculation()\n",
    "sum/=trials\n",
    "box = np.zeros(24)\n",
    "for i in range(N):\n",
    "    j = i/30\n",
    "    box[int(j)] += sum[i]\n",
    "plt.title('simulation')\n",
    "plt.bar(np.linspace(0,24,24),box)"
   ]
  },
  {
   "cell_type": "code",
   "execution_count": 9,
   "metadata": {},
   "outputs": [
    {
     "data": {
      "text/plain": [
       "2490.1799999999994"
      ]
     },
     "execution_count": 9,
     "metadata": {},
     "output_type": "execute_result"
    }
   ],
   "source": [
    "total = 0\n",
    "for i in range(0,N):\n",
    "    total +=sum[i]\n",
    "total"
   ]
  },
  {
   "cell_type": "code",
   "execution_count": 10,
   "metadata": {},
   "outputs": [
    {
     "data": {
      "text/plain": [
       "996.0719999999998"
      ]
     },
     "execution_count": 10,
     "metadata": {},
     "output_type": "execute_result"
    }
   ],
   "source": [
    "cabon = total *eta_G\n",
    "cabon"
   ]
  }
 ],
 "metadata": {
  "interpreter": {
   "hash": "ba248839fc308c5ec13dd0046a33f2b311c21367d6f0f2fe586fee2c97db693a"
  },
  "kernelspec": {
   "display_name": "Python 3.10.4 64-bit",
   "language": "python",
   "name": "python3"
  },
  "language_info": {
   "codemirror_mode": {
    "name": "ipython",
    "version": 3
   },
   "file_extension": ".py",
   "mimetype": "text/x-python",
   "name": "python",
   "nbconvert_exporter": "python",
   "pygments_lexer": "ipython3",
   "version": "3.10.4"
  },
  "orig_nbformat": 4
 },
 "nbformat": 4,
 "nbformat_minor": 2
}
>>>>>>> e96e86ae6041ff6c9d627d4c3ad12fd8c74f48f4
