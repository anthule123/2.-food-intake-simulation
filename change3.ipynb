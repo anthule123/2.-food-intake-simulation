{
 "cells": [
  {
   "cell_type": "code",
   "execution_count": 11,
   "metadata": {},
   "outputs": [],
   "source": [
    "import numpy as np\n",
    "N = 720\n",
    "habit = np.zeros(N)\n",
    "energy= np.zeros(N)\n",
    "\n",
    "#1. Tham so cho E\n",
    "E_timeLowerBound = 300\n",
    "E_timeUpperBound = 1260\n",
    "#1. Tinh E\n",
    "for i in range(0,N):\n",
    "    t = 2* i\n",
    "    if E_timeLowerBound< t and t < E_timeUpperBound:\n",
    "        energy[i] = 1\n",
    "        #2. Tham so cho thoi quen an H\n",
    "t_lowerMeal = ['0', 260,580,600,600]\n",
    "t_upperMeal = ['0',1000,1400,1400,1440]\n",
    "t_meanMeal = ['0',500,750,610,1140]\n",
    "t_sigmaMeal = ['0',85,20,240,87]\n",
    "w_peak =['0',0.92,0.45,0.65,0.65]\n",
    "w_snack= 0.047\n",
    "import matplotlib.pyplot as plt\n",
    "import math\n",
    "def indicate_function(val,dau, cuoi):\n",
    "    if(dau <=val and val <=cuoi):\n",
    "        return 1\n",
    "    else:\n",
    "        return 0\n",
    "\n",
    "thoi_gian = np.linspace(0,24, 1000)\n",
    "def Habit(tgian):\n",
    "    res = w_snack\n",
    "    for i in range(1,5):\n",
    "        res +=indicate_function(tgian,t_lowerMeal[i],t_upperMeal[i])*w_peak[i] *math.exp(-1/2*((tgian-t_meanMeal[i])/t_sigmaMeal[i])**2)\n",
    "    return res\n",
    "#2. Tinh ham habit\n",
    "for i in range(0, N):\n",
    "    habit[i] = Habit(2*i)"
   ]
  },
  {
   "cell_type": "code",
   "execution_count": 12,
   "metadata": {},
   "outputs": [],
   "source": [
    "#3,4,5,6,7,8,9: Cac tham so con lai can init va vong lap\n",
    "#Init\n",
    "eta_G = 0.2\n",
    "t_12 = 30\n",
    "\n",
    "def food_calculation():\n",
    "    ghrelin = np.zeros(N)\n",
    "    glucose = np.zeros(N)\n",
    "    appetite = np.zeros(N)\n",
    "    k_an_nhin = np.zeros(N)\n",
    "    k_nhin_an = np.zeros(N) \n",
    "    indicator_intake = np.zeros(N) \n",
    "    stomach = np.zeros(N)\n",
    "    quality_food = np.zeros(N)\n",
    "    ghrelin[0] = 178\n",
    "    glucose[0] = 5\n",
    "    stomach[0] = 0\n",
    "\n",
    "    p_ij_HA = 0.01\n",
    "    w_A = 0.1\n",
    "    A_max =300\n",
    "    k_nhin_an[0] = p_ij_HA * ghrelin[0] * (1 + w_A*appetite[0]/A_max)\n",
    "    k_an_nhin[0] = 0.001\n",
    "    indicator_intake[0] = 0\n",
    "\n",
    "    for i in range(1,N):\n",
    "        #3. Ghrelin\n",
    "        lambda_LS = 0.00462098\n",
    "        k_XL = 0.02\n",
    "        L_max = 208\n",
    "        k_LS_max  = k_XL *L_max\n",
    "        bthuc = k_LS_max * np.exp(-lambda_LS*stomach[i-1]) - k_XL*ghrelin[i-1]\n",
    "        ghrelin[i] = ghrelin[i-1] + 2* bthuc\n",
    "\n",
    "\n",
    "        #4. Glucose\n",
    "        k_XG = 0.0072\n",
    "        k_XGE = 0.0036\n",
    "        k_G = 0.4464\n",
    "        k_XS = np.log(2)/t_12\n",
    "        ro_GS = 0.9\n",
    "        vG = 12.4\n",
    "        bthuc = -(k_XG + k_XGE*energy[i-1])*glucose[i-1] + (k_G+k_XS*eta_G*ro_GS*stomach[i-1])/vG \n",
    "        glucose[i] = glucose[i-1] + 2* bthuc\n",
    "\n",
    "\n",
    "        #5. Appetite\n",
    "        l_A50 = 120\n",
    "        lambda_AG = 0.3\n",
    "        bthuc = A_max * ghrelin[i]/(ghrelin[i] + l_A50) * np.exp(-lambda_AG*glucose[i])\n",
    "        appetite[i] = bthuc\n",
    "\n",
    "        #6.k_ji\n",
    "        k_nhin_an[i] = p_ij_HA * habit[i] * (1 + w_A*appetite[i]/A_max)\n",
    "\n",
    "        #9. stomach\n",
    "        k_XS =0.0154033\n",
    "        k_S =16.5\n",
    "        bthuc = -k_XS*stomach[i-1] + k_S* indicator_intake[i-1]\n",
    "        stomach[i] = stomach[i-1] + 2*bthuc\n",
    "        #7.k_ij\n",
    "        k_ij0 = 0.001\n",
    "        ps_ij = 0.0001\n",
    "        pG_ij = 0.0001\n",
    "        k_an_nhin[i] = k_ij0 + ps_ij*stomach[i] + pG_ij*glucose[i]\n",
    "        #8 indicator intake\n",
    "        import random\n",
    "        u = random.uniform(0,1)\n",
    "        if(indicator_intake[i-1]==0):\n",
    "            if(u<=1-np.exp(-k_nhin_an[i-1] * 2)):\n",
    "                indicator_intake[i] = 1\n",
    "        else:\n",
    "            if(u > 1-np.exp(-k_an_nhin[i-1] * 2)):\n",
    "                indicator_intake[i] = 1\n",
    "        if(i == 1):\n",
    "            indicator_intake[i] = 0\n",
    "        #9. Quality of food\n",
    "        quality_food[i] = indicator_intake[i] * k_S * 2\n",
    "    return quality_food\n"
   ]
  },
  {
   "cell_type": "code",
   "execution_count": 13,
   "metadata": {},
   "outputs": [
    {
     "data": {
      "text/plain": [
       "<BarContainer object of 24 artists>"
      ]
     },
     "execution_count": 13,
     "metadata": {},
     "output_type": "execute_result"
    },
    {
     "data": {
      "image/png": "[encoded data removed]",
      "text/plain": [
       "<Figure size 432x288 with 1 Axes>"
      ]
     },
     "metadata": {},
     "output_type": "display_data"
    }
   ],
   "source": [
    "trials = 100\n",
    "sum = np.zeros(N)\n",
    "for i in range(0,trials):\n",
    "    sum += food_calculation()\n",
    "sum/=trials\n",
    "box = np.zeros(24)\n",
    "for i in range(N):\n",
    "    j = i/30\n",
    "    box[int(j)] += sum[i]\n",
    "plt.title('simulation')\n",
    "plt.bar(np.linspace(0,24,24),box)"
   ]
  },
  {
   "cell_type": "code",
   "execution_count": 14,
   "metadata": {},
   "outputs": [
    {
     "data": {
      "text/plain": [
       "2651.5499999999984"
      ]
     },
     "execution_count": 14,
     "metadata": {},
     "output_type": "execute_result"
    }
   ],
   "source": [
    "total = 0\n",
    "for i in range(0,N):\n",
    "    total +=sum[i]\n",
    "total"
   ]
  },
  {
   "cell_type": "code",
   "execution_count": 15,
   "metadata": {},
   "outputs": [
    {
     "data": {
      "text/plain": [
       "530.3099999999997"
      ]
     },
     "execution_count": 15,
     "metadata": {},
     "output_type": "execute_result"
    }
   ],
   "source": [
    "cabon = total *eta_G\n",
    "cabon"
   ]
  }
 ],
 "metadata": {
  "interpreter": {
   "hash": "ba248839fc308c5ec13dd0046a33f2b311c21367d6f0f2fe586fee2c97db693a"
  },
  "kernelspec": {
   "display_name": "Python 3.10.4 64-bit",
   "language": "python",
   "name": "python3"
  },
  "language_info": {
   "codemirror_mode": {
    "name": "ipython",
    "version": 3
   },
   "file_extension": ".py",
   "mimetype": "text/x-python",
   "name": "python",
   "nbconvert_exporter": "python",
   "pygments_lexer": "ipython3",
   "version": "3.10.4"
  },
  "orig_nbformat": 4
 },
 "nbformat": 4,
 "nbformat_minor": 2
}
