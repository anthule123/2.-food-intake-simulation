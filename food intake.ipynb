{
 "cells": [
  {
   "cell_type": "code",
   "execution_count": 1,
   "metadata": {},
   "outputs": [],
   "source": [
    "#Các tham số\n",
    "t_0 = 0\n",
    "t_end = 1440\n",
    "t_delta = 2\n",
    "#1. Tham so cho E\n",
    "E_timeLowerBound = 300\n",
    "E_timeUpperBound = 1260\n",
    "#2. Tham so cho thoi quen an H\n",
    "t_lowerMeal = ['0', 260,580,600,600]\n",
    "t_upperMeal = ['0',1000,1400,1400,1440]\n",
    "t_meanMeal = ['0',500,750,610]\n",
    "t_sigmaMeal = ['0',85,20,240,87]\n",
    "w_peak =['0',0.92,0.45,0.65,0.65]\n",
    "w_snack= 0.047\n"
   ]
  },
  {
   "cell_type": "code",
   "execution_count": null,
   "metadata": {},
   "outputs": [],
   "source": []
  }
 ],
 "metadata": {
  "interpreter": {
   "hash": "0387ffdfac7c9496b32530a01f970b35f6d2f3d4f00ac0e28008c530fae92bd6"
  },
  "kernelspec": {
   "display_name": "Python 3.10.4 64-bit",
   "language": "python",
   "name": "python3"
  },
  "language_info": {
   "codemirror_mode": {
    "name": "ipython",
    "version": 3
   },
   "file_extension": ".py",
   "mimetype": "text/x-python",
   "name": "python",
   "nbconvert_exporter": "python",
   "pygments_lexer": "ipython3",
   "version": "3.10.4"
  },
  "orig_nbformat": 4
 },
 "nbformat": 4,
 "nbformat_minor": 2
}
